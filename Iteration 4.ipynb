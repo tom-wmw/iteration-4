{
 "cells": [
  {
   "cell_type": "code",
   "execution_count": 1,
   "metadata": {},
   "outputs": [],
   "source": [
    "# Must be included at the beginning of each new notebook. Remember to change the app name.\n",
    "import findspark\n",
    "findspark.init('/home/ubuntu/spark-2.1.1-bin-hadoop2.7')\n",
    "import pyspark\n",
    "from pyspark.sql import SparkSession\n",
    "\n",
    "\n",
    "spark = SparkSession.builder.appName('basics').getOrCreate()"
   ]
  },
  {
   "cell_type": "code",
   "execution_count": 2,
   "metadata": {},
   "outputs": [],
   "source": [
    "# Let's read in the data. Note that it's in the format of JSON.\n",
    "df = spark.read.options(header=\"True\", inferSchema=\"True\").csv('database.csv')"
   ]
  },
  {
   "cell_type": "code",
   "execution_count": 3,
   "metadata": {},
   "outputs": [],
   "source": [
    "#df.count()\n",
    "#df.columns\n",
    "#df.dtypes"
   ]
  },
  {
   "cell_type": "code",
   "execution_count": 4,
   "metadata": {},
   "outputs": [],
   "source": [
    "from pyspark.sql.types import (StructField,StringType,IntegerType,StructType,BooleanType)"
   ]
  },
  {
   "cell_type": "code",
   "execution_count": 5,
   "metadata": {},
   "outputs": [],
   "source": [
    "data_schema = [StructField('Engine Cylinders',IntegerType(),True),\n",
    "              StructField('Engine Displacement',IntegerType(),True),\n",
    "              StructField('Turbocharger',StringType(),True),\n",
    "              StructField('Supercharger',StringType(),True),\n",
    "              StructField('Vehicle ID',IntegerType(),True),\n",
    "              StructField('Year',IntegerType(),True),\n",
    "              StructField('Make',StringType(),True),\n",
    "              StructField('Drive',StringType(),True),\n",
    "              StructField('Model',StringType(),True),\n",
    "              StructField('Class',StringType(),True),\n",
    "              StructField('Transmission',StringType(),True),\n",
    "              StructField('Fuel Type',StringType(),True),\n",
    "              StructField('Fuel Economy Score',IntegerType(),True),\n",
    "              StructField('Gasoline/Electricity Blended (CD)',BooleanType(),True)]\n",
    "final_struct = StructType(fields=data_schema)\n"
   ]
  },
  {
   "cell_type": "code",
   "execution_count": 6,
   "metadata": {},
   "outputs": [],
   "source": [
    "from pyspark.sql.functions import mean, stddev, min, max\n",
    "\n",
    "mean = df.select(mean(df['City MPG'])).collect()\n",
    "mean_val = mean[0][0]\n",
    "stddev = df.select(stddev(df['City MPG'])).collect()\n",
    "stddev_val = stddev[0][0]\n",
    "minimum=df.select(min(df['City MPG'])).collect()\n",
    "maximum=df.select(max(df['City MPG'])).collect()\n",
    "minimum=minimum[0][0]\n",
    "maximum=maximum[0][0]\n",
    "max_range = mean_val + 3*stddev_val\n",
    "min_range = mean_val - 3*stddev_val\n",
    "\n",
    "#min_range, max_range, minimum, maximum"
   ]
  },
  {
   "cell_type": "code",
   "execution_count": 7,
   "metadata": {},
   "outputs": [],
   "source": [
    "df = df.filter(df['City MPG']<max_range)\n",
    "\n",
    "maximum=df.select(max(df['City MPG'])).collect()\n",
    "maximum=maximum[0][0]\n",
    "\n",
    "#df.count(), maximum\n"
   ]
  },
  {
   "cell_type": "code",
   "execution_count": 8,
   "metadata": {},
   "outputs": [],
   "source": [
    "df = spark.read.options(header=\"True\", inferSchema=\"True\").csv('database.csv',schema=final_struct)\n",
    "df = df.filter(df['Fuel Economy Score']>0)\n",
    "#df.count()\n",
    "#df.printSchema()"
   ]
  },
  {
   "cell_type": "code",
   "execution_count": 9,
   "metadata": {},
   "outputs": [
    {
     "data": {
      "text/plain": [
       "DataFrame[Engine Cylinders: int, Engine Displacement: int, Turbocharger: string, Supercharger: string, Vehicle ID: int, Year: int, Make: string, Drive: string, Model: string, Class: string, Transmission: string, Fuel Type: string, Fuel Economy Score: int, Gasoline/Electricity Blended (CD): boolean]"
      ]
     },
     "execution_count": 9,
     "metadata": {},
     "output_type": "execute_result"
    }
   ],
   "source": [
    "df.fillna('N', subset=['Supercharger','Turbocharger'])\n",
    "df.na.drop()\n",
    "#df.count()"
   ]
  },
  {
   "cell_type": "code",
   "execution_count": 11,
   "metadata": {},
   "outputs": [],
   "source": [
    "from pyspark.sql.functions import floor\n",
    "from pyspark.sql import Row\n",
    "df=df.withColumn(\"bin_score\", floor(df['Fuel Economy Score']/4 + 1))\n",
    "#df.printSchema()\n"
   ]
  },
  {
   "cell_type": "code",
   "execution_count": 13,
   "metadata": {},
   "outputs": [],
   "source": [
    "#df.toPandas().to_csv('clean data.csv')"
   ]
  }
 ],
 "metadata": {
  "kernelspec": {
   "display_name": "Python 3",
   "language": "python",
   "name": "python3"
  },
  "language_info": {
   "codemirror_mode": {
    "name": "ipython",
    "version": 3
   },
   "file_extension": ".py",
   "mimetype": "text/x-python",
   "name": "python",
   "nbconvert_exporter": "python",
   "pygments_lexer": "ipython3",
   "version": "3.5.2"
  }
 },
 "nbformat": 4,
 "nbformat_minor": 2
}
